{
  "nbformat": 4,
  "nbformat_minor": 0,
  "metadata": {
    "colab": {
      "provenance": []
    },
    "kernelspec": {
      "name": "python3",
      "display_name": "Python 3"
    },
    "language_info": {
      "name": "python"
    }
  },
  "cells": [
    {
      "cell_type": "code",
      "execution_count": 1,
      "metadata": {
        "colab": {
          "base_uri": "https://localhost:8080/"
        },
        "id": "UlITp0cKe81h",
        "outputId": "8ae469d9-830a-4b32-a56d-7d81f9de7e83"
      },
      "outputs": [
        {
          "output_type": "stream",
          "name": "stdout",
          "text": [
            "['apple', 'banana', 'cherry']\n",
            "['apple', 'nbana', 'cat', 1, 2.3]\n",
            "['apple', 'nbana', 'cat', 1, 2.3, 'ball']\n",
            "['a', 'b', [1, 2, 3]]\n",
            "['apple', 'banana', 'cherry']\n",
            "['apple', 'banana', 'cherry']\n",
            "1\n",
            "0\n",
            "['123', 'take', 'pass']\n",
            "1\n",
            "['apple', 'banana', 'cherry', 'ram', 'maruti', 'ford']\n",
            "['apple', 'banana', 'cherry', 'Ford', 'BMW', 'Volvo']\n",
            "0\n",
            "6\n",
            "1\n",
            "['apple', 'banana', 'cherry', 'ram', 'maruti', 'ford']\n",
            "['apple', 'banana', 'cherry', 'ram', 'maruti', 'ford', 'kiwi']\n",
            "['apple', 'banana', 'cherry', 'ram', 'maruti', 'ford', 'kiwi', 'plum']\n",
            "['apple', 'banana', 'cherry', 'ram', 'maruti', 'ford', 'kiwi', 'plum', 'grape']\n",
            "9\n",
            "1\n",
            "3\n",
            "9\n",
            "grape\n",
            "cherry\n",
            "['apple', 'banana', 'ram', 'maruti', 'ford', 'kiwi', 'plum']\n",
            "['apple', 'banana', 'ram', 'maruti', 'ford', 'kiwi']\n",
            "['apple', 'banana', 'ram', 'maruti', 'ford']\n",
            "5\n",
            "['cherry', 'banana', 'apple']\n",
            "['apple', 'banana', 'cherry']\n"
          ]
        }
      ],
      "source": [
        "f= list((\"apple\", \"banana\", \"cherry\"))\n",
        "print(f)\n",
        "thislist=list((\"apple\",\"nbana\",\"cat\",1,2.3))\n",
        "print(thislist)\n",
        "thislist.append(\"ball\")\n",
        "print(thislist)\n",
        "a=['a','b']\n",
        "b=[1,2,3]\n",
        "a.append(b)\n",
        "print(a)\n",
        "thislist.clear()\n",
        "fruits = list((\"apple\", \"banana\", \"cherry\"))\n",
        "print(fruits)\n",
        "x=fruits.copy()\n",
        "print(x)\n",
        "print(x.count('apple'))\n",
        "print(x.count('a'))\n",
        "s=list(('123','take','pass'))\n",
        "print(s)\n",
        "print(b.count(1))\n",
        "\n",
        "f=[\"apple\",\"banana\",\"cherry\"]\n",
        "c=[\"ram\",\"maruti\",\"ford\"]\n",
        "f.extend(c)\n",
        "print(f)\n",
        "fruits = ['apple', 'banana', 'cherry']\n",
        "\n",
        "cars = ['Ford', 'BMW', 'Volvo']\n",
        "\n",
        "fruits.extend(cars)\n",
        "print(fruits)\n",
        "print(f.index('apple'))\n",
        "print(len(f))\n",
        "print(f.index('banana'))\n",
        "print(f)\n",
        "f.insert(6,'kiwi')\n",
        "print(f)\n",
        "f.insert(7,'plum')\n",
        "print(f)\n",
        "f.insert(8,'grape')\n",
        "print(f)\n",
        "print(len(f))\n",
        "print(f.count('ram'))\n",
        "print(f.index('ram'))\n",
        "print(len(f))\n",
        "print(f.pop())\n",
        "print(f.pop(2))\n",
        "print(f)\n",
        "f.remove('plum')\n",
        "print(f)\n",
        "f.remove('kiwi')\n",
        "print(f)\n",
        "print(len(f))\n",
        "x.reverse()\n",
        "print(x)\n",
        "x.sort()\n",
        "print(x)"
      ]
    }
  ]
}